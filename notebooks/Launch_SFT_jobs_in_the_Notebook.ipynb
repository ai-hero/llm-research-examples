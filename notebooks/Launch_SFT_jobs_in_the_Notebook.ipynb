{
 "cells": [
  {
   "cell_type": "markdown",
   "metadata": {
    "id": "cfYOOaoT0oDQ"
   },
   "source": [
    "# Launch SFT jobs in the Notebook.\n",
    "<a target=\"_blank\" href=\"https://colab.research.google.com/github/ai-hero/llm-research-orchestration/blob/main/notebooks/fine_tuning_research.ipynb\">\n",
    "  <img src=\"https://colab.research.google.com/assets/colab-badge.svg\" alt=\"Open In Colab\"/>\n",
    "</a>"
   ]
  },
  {
   "cell_type": "code",
   "execution_count": null,
   "metadata": {
    "colab": {
     "base_uri": "https://localhost:8080/"
    },
    "id": "LnH-WQ2Ok1qU",
    "outputId": "c9c73339-6f2c-4615-bf25-15e1e0bb56fa"
   },
   "outputs": [],
   "source": [
    "!pip install -r ../requirements.txt"
   ]
  },
  {
   "cell_type": "code",
   "execution_count": null,
   "metadata": {
    "colab": {
     "base_uri": "https://localhost:8080/"
    },
    "id": "5_07QkyH0oDV",
    "outputId": "49974c6e-dc29-41e9-dc2b-6ad5c472ba51"
   },
   "outputs": [],
   "source": [
    "# Set all important env variables needed for the application to work\n",
    "\n",
    "## NOTE: It's best practice don't set the here, set them in your secrets.\n",
    "\n",
    "## wandb\n",
    "%env WANDB_API_KEY=\n",
    "%env WANDB_USERNAME=\n",
    "\n",
    "## huggingface\n",
    "%env HF_TOKEN=\n",
    "\n",
    "# S3 endpoint to access data and save model\n",
    "%env S3_ENDPOINT=\n",
    "%env S3_ACCESS_KEY_ID=\n",
    "%env S3_SECRET_ACCESS_KEY=\n",
    "%env S3_REGION=\n",
    "%env S3_SECURE=true\n",
    "\n",
    "# Run custom code !!!! Security risk\n",
    "%env ALLOW_CUSTOM_TESTS=true\n",
    "%env ALLOW_CUSTOM_METRICS=true"
   ]
  },
  {
   "cell_type": "code",
   "execution_count": null,
   "metadata": {
    "id": "iZ1GnKdAc5Aw"
   },
   "outputs": [],
   "source": [
    "from aihero.research.finetuning.sft import sft"
   ]
  },
  {
   "cell_type": "code",
   "execution_count": null,
   "metadata": {
    "id": "y4perIRGYJ6a"
   },
   "outputs": [],
   "source": [
    "import yaml\n",
    "\n",
    "configs = \"\"\"\n",
    "project:\n",
    "  name: \"mmlu\"\n",
    "\n",
    "training:\n",
    "  dataset:\n",
    "    type: \"s3\"\n",
    "    name: \"fine-tuning-research/mmlu\"\n",
    "    format: \"completion\"\n",
    "  model:\n",
    "    base:\n",
    "      type: \"hf\"\n",
    "      name: \"meta-llama/Llama-2-7b-hf\"\n",
    "    output:\n",
    "      type: \"hf\"\n",
    "      name: \"rparundekar/llama2-7b-mmlu\"\n",
    "  trainer:\n",
    "    packing: False\n",
    "    max_seq_length: 512\n",
    "  sft:\n",
    "    per_device_train_batch_size: 24\n",
    "    per_device_eval_batch_size: 24\n",
    "    learning_rate: 0.0002\n",
    "    lr_scheduler_type: \"cosine\"\n",
    "    warmup_ratio: 0.1\n",
    "    max_steps: 500\n",
    "    gradient_accumulation_steps: 4\n",
    "    gradient_checkpointing: True\n",
    "    gradient_checkpointing_kwargs:\n",
    "      use_reentrant: False\n",
    "    logging_strategy: \"steps\"\n",
    "    logging_steps: 5\n",
    "    evaluation_strategy: \"steps\"\n",
    "    eval_steps: 100\n",
    "  peft:\n",
    "    r: 64  # the rank of the LoRA matrices\n",
    "    lora_alpha: 16 # the weight\n",
    "    lora_dropout: 0.1 # dropout to add to the LoRA layers\n",
    "    bias: \"none\" # add bias to the nn.Linear layers?\n",
    "    task_type: \"CAUSAL_LM\"\n",
    "    target_modules:  # the name of the layers to add LoRA\n",
    "      - \"q_proj\"\n",
    "      - \"k_proj\"\n",
    "      - \"v_proj\"\n",
    "      - \"o_proj\"\n",
    "      - \"gate_proj\"\n",
    "      - \"up_proj\"\n",
    "      - \"down_proj\"\n",
    "      -  \"lm_head\"\n",
    "    quantized: True\n",
    "\"\"\"\n",
    "\n",
    "config = yaml.safe_load(configs)"
   ]
  },
  {
   "cell_type": "code",
   "execution_count": null,
   "metadata": {
    "colab": {
     "base_uri": "https://localhost:8080/",
     "height": 188,
     "referenced_widgets": [
      "237bb4874ffb45f286cf27f19e4cf7bc",
      "ab8b85ac41464c7283d1bba74e37a906",
      "d8e023d8290a4c3f834164564b61ee89",
      "6977b4e728f34adb82f027491f7bd568",
      "2d603ee9a3504917b7ad0e87cccf8efe",
      "7e2221df3cb341a39a6418524242ecf9",
      "05e625c152214b18a31f28ab939a764c",
      "19a93b13257840d5a66c9f89968b2e25",
      "52df18e046fb49d4b011620a81017bfa",
      "bfc4009297164336befddd68230bec2e",
      "35f9e95a4c64490e92b5a21ee50768be"
     ]
    },
    "id": "kd9cSHliays8",
    "outputId": "fcdc2977-a317-4a9c-89ca-a8b32c8140fc"
   },
   "outputs": [],
   "source": [
    "sft(config)"
   ]
  },
  {
   "cell_type": "code",
   "execution_count": null,
   "metadata": {
    "id": "kTP7d9wk3X3e"
   },
   "outputs": [],
   "source": []
  }
 ],
 "metadata": {
  "accelerator": "GPU",
  "colab": {
   "gpuType": "T4",
   "machine_shape": "hm",
   "provenance": []
  },
  "kernelspec": {
   "display_name": "Python 3 (ipykernel)",
   "language": "python",
   "name": "python3"
  },
  "language_info": {
   "codemirror_mode": {
    "name": "ipython",
    "version": 3
   },
   "file_extension": ".py",
   "mimetype": "text/x-python",
   "name": "python",
   "nbconvert_exporter": "python",
   "pygments_lexer": "ipython3",
   "version": "3.9.6"
  },
  "widgets": {
   "application/vnd.jupyter.widget-state+json": {
    "05e625c152214b18a31f28ab939a764c": {
     "model_module": "@jupyter-widgets/controls",
     "model_module_version": "1.5.0",
     "model_name": "DescriptionStyleModel",
     "state": {
      "_model_module": "@jupyter-widgets/controls",
      "_model_module_version": "1.5.0",
      "_model_name": "DescriptionStyleModel",
      "_view_count": null,
      "_view_module": "@jupyter-widgets/base",
      "_view_module_version": "1.2.0",
      "_view_name": "StyleView",
      "description_width": ""
     }
    },
    "19a93b13257840d5a66c9f89968b2e25": {
     "model_module": "@jupyter-widgets/base",
     "model_module_version": "1.2.0",
     "model_name": "LayoutModel",
     "state": {
      "_model_module": "@jupyter-widgets/base",
      "_model_module_version": "1.2.0",
      "_model_name": "LayoutModel",
      "_view_count": null,
      "_view_module": "@jupyter-widgets/base",
      "_view_module_version": "1.2.0",
      "_view_name": "LayoutView",
      "align_content": null,
      "align_items": null,
      "align_self": null,
      "border": null,
      "bottom": null,
      "display": null,
      "flex": null,
      "flex_flow": null,
      "grid_area": null,
      "grid_auto_columns": null,
      "grid_auto_flow": null,
      "grid_auto_rows": null,
      "grid_column": null,
      "grid_gap": null,
      "grid_row": null,
      "grid_template_areas": null,
      "grid_template_columns": null,
      "grid_template_rows": null,
      "height": null,
      "justify_content": null,
      "justify_items": null,
      "left": null,
      "margin": null,
      "max_height": null,
      "max_width": null,
      "min_height": null,
      "min_width": null,
      "object_fit": null,
      "object_position": null,
      "order": null,
      "overflow": null,
      "overflow_x": null,
      "overflow_y": null,
      "padding": null,
      "right": null,
      "top": null,
      "visibility": null,
      "width": null
     }
    },
    "237bb4874ffb45f286cf27f19e4cf7bc": {
     "model_module": "@jupyter-widgets/controls",
     "model_module_version": "1.5.0",
     "model_name": "HBoxModel",
     "state": {
      "_dom_classes": [],
      "_model_module": "@jupyter-widgets/controls",
      "_model_module_version": "1.5.0",
      "_model_name": "HBoxModel",
      "_view_count": null,
      "_view_module": "@jupyter-widgets/controls",
      "_view_module_version": "1.5.0",
      "_view_name": "HBoxView",
      "box_style": "",
      "children": [
       "IPY_MODEL_ab8b85ac41464c7283d1bba74e37a906",
       "IPY_MODEL_d8e023d8290a4c3f834164564b61ee89",
       "IPY_MODEL_6977b4e728f34adb82f027491f7bd568"
      ],
      "layout": "IPY_MODEL_2d603ee9a3504917b7ad0e87cccf8efe"
     }
    },
    "2d603ee9a3504917b7ad0e87cccf8efe": {
     "model_module": "@jupyter-widgets/base",
     "model_module_version": "1.2.0",
     "model_name": "LayoutModel",
     "state": {
      "_model_module": "@jupyter-widgets/base",
      "_model_module_version": "1.2.0",
      "_model_name": "LayoutModel",
      "_view_count": null,
      "_view_module": "@jupyter-widgets/base",
      "_view_module_version": "1.2.0",
      "_view_name": "LayoutView",
      "align_content": null,
      "align_items": null,
      "align_self": null,
      "border": null,
      "bottom": null,
      "display": null,
      "flex": null,
      "flex_flow": null,
      "grid_area": null,
      "grid_auto_columns": null,
      "grid_auto_flow": null,
      "grid_auto_rows": null,
      "grid_column": null,
      "grid_gap": null,
      "grid_row": null,
      "grid_template_areas": null,
      "grid_template_columns": null,
      "grid_template_rows": null,
      "height": null,
      "justify_content": null,
      "justify_items": null,
      "left": null,
      "margin": null,
      "max_height": null,
      "max_width": null,
      "min_height": null,
      "min_width": null,
      "object_fit": null,
      "object_position": null,
      "order": null,
      "overflow": null,
      "overflow_x": null,
      "overflow_y": null,
      "padding": null,
      "right": null,
      "top": null,
      "visibility": null,
      "width": null
     }
    },
    "35f9e95a4c64490e92b5a21ee50768be": {
     "model_module": "@jupyter-widgets/controls",
     "model_module_version": "1.5.0",
     "model_name": "DescriptionStyleModel",
     "state": {
      "_model_module": "@jupyter-widgets/controls",
      "_model_module_version": "1.5.0",
      "_model_name": "DescriptionStyleModel",
      "_view_count": null,
      "_view_module": "@jupyter-widgets/base",
      "_view_module_version": "1.2.0",
      "_view_name": "StyleView",
      "description_width": ""
     }
    },
    "52df18e046fb49d4b011620a81017bfa": {
     "model_module": "@jupyter-widgets/controls",
     "model_module_version": "1.5.0",
     "model_name": "ProgressStyleModel",
     "state": {
      "_model_module": "@jupyter-widgets/controls",
      "_model_module_version": "1.5.0",
      "_model_name": "ProgressStyleModel",
      "_view_count": null,
      "_view_module": "@jupyter-widgets/base",
      "_view_module_version": "1.2.0",
      "_view_name": "StyleView",
      "bar_color": null,
      "description_width": ""
     }
    },
    "6977b4e728f34adb82f027491f7bd568": {
     "model_module": "@jupyter-widgets/controls",
     "model_module_version": "1.5.0",
     "model_name": "HTMLModel",
     "state": {
      "_dom_classes": [],
      "_model_module": "@jupyter-widgets/controls",
      "_model_module_version": "1.5.0",
      "_model_name": "HTMLModel",
      "_view_count": null,
      "_view_module": "@jupyter-widgets/controls",
      "_view_module_version": "1.5.0",
      "_view_name": "HTMLView",
      "description": "",
      "description_tooltip": null,
      "layout": "IPY_MODEL_bfc4009297164336befddd68230bec2e",
      "placeholder": "​",
      "style": "IPY_MODEL_35f9e95a4c64490e92b5a21ee50768be",
      "value": " 0/2 [00:00&lt;?, ?it/s]"
     }
    },
    "7e2221df3cb341a39a6418524242ecf9": {
     "model_module": "@jupyter-widgets/base",
     "model_module_version": "1.2.0",
     "model_name": "LayoutModel",
     "state": {
      "_model_module": "@jupyter-widgets/base",
      "_model_module_version": "1.2.0",
      "_model_name": "LayoutModel",
      "_view_count": null,
      "_view_module": "@jupyter-widgets/base",
      "_view_module_version": "1.2.0",
      "_view_name": "LayoutView",
      "align_content": null,
      "align_items": null,
      "align_self": null,
      "border": null,
      "bottom": null,
      "display": null,
      "flex": null,
      "flex_flow": null,
      "grid_area": null,
      "grid_auto_columns": null,
      "grid_auto_flow": null,
      "grid_auto_rows": null,
      "grid_column": null,
      "grid_gap": null,
      "grid_row": null,
      "grid_template_areas": null,
      "grid_template_columns": null,
      "grid_template_rows": null,
      "height": null,
      "justify_content": null,
      "justify_items": null,
      "left": null,
      "margin": null,
      "max_height": null,
      "max_width": null,
      "min_height": null,
      "min_width": null,
      "object_fit": null,
      "object_position": null,
      "order": null,
      "overflow": null,
      "overflow_x": null,
      "overflow_y": null,
      "padding": null,
      "right": null,
      "top": null,
      "visibility": null,
      "width": null
     }
    },
    "ab8b85ac41464c7283d1bba74e37a906": {
     "model_module": "@jupyter-widgets/controls",
     "model_module_version": "1.5.0",
     "model_name": "HTMLModel",
     "state": {
      "_dom_classes": [],
      "_model_module": "@jupyter-widgets/controls",
      "_model_module_version": "1.5.0",
      "_model_name": "HTMLModel",
      "_view_count": null,
      "_view_module": "@jupyter-widgets/controls",
      "_view_module_version": "1.5.0",
      "_view_name": "HTMLView",
      "description": "",
      "description_tooltip": null,
      "layout": "IPY_MODEL_7e2221df3cb341a39a6418524242ecf9",
      "placeholder": "​",
      "style": "IPY_MODEL_05e625c152214b18a31f28ab939a764c",
      "value": "Loading checkpoint shards:   0%"
     }
    },
    "bfc4009297164336befddd68230bec2e": {
     "model_module": "@jupyter-widgets/base",
     "model_module_version": "1.2.0",
     "model_name": "LayoutModel",
     "state": {
      "_model_module": "@jupyter-widgets/base",
      "_model_module_version": "1.2.0",
      "_model_name": "LayoutModel",
      "_view_count": null,
      "_view_module": "@jupyter-widgets/base",
      "_view_module_version": "1.2.0",
      "_view_name": "LayoutView",
      "align_content": null,
      "align_items": null,
      "align_self": null,
      "border": null,
      "bottom": null,
      "display": null,
      "flex": null,
      "flex_flow": null,
      "grid_area": null,
      "grid_auto_columns": null,
      "grid_auto_flow": null,
      "grid_auto_rows": null,
      "grid_column": null,
      "grid_gap": null,
      "grid_row": null,
      "grid_template_areas": null,
      "grid_template_columns": null,
      "grid_template_rows": null,
      "height": null,
      "justify_content": null,
      "justify_items": null,
      "left": null,
      "margin": null,
      "max_height": null,
      "max_width": null,
      "min_height": null,
      "min_width": null,
      "object_fit": null,
      "object_position": null,
      "order": null,
      "overflow": null,
      "overflow_x": null,
      "overflow_y": null,
      "padding": null,
      "right": null,
      "top": null,
      "visibility": null,
      "width": null
     }
    },
    "d8e023d8290a4c3f834164564b61ee89": {
     "model_module": "@jupyter-widgets/controls",
     "model_module_version": "1.5.0",
     "model_name": "FloatProgressModel",
     "state": {
      "_dom_classes": [],
      "_model_module": "@jupyter-widgets/controls",
      "_model_module_version": "1.5.0",
      "_model_name": "FloatProgressModel",
      "_view_count": null,
      "_view_module": "@jupyter-widgets/controls",
      "_view_module_version": "1.5.0",
      "_view_name": "ProgressView",
      "bar_style": "",
      "description": "",
      "description_tooltip": null,
      "layout": "IPY_MODEL_19a93b13257840d5a66c9f89968b2e25",
      "max": 2,
      "min": 0,
      "orientation": "horizontal",
      "style": "IPY_MODEL_52df18e046fb49d4b011620a81017bfa",
      "value": 0
     }
    }
   }
  }
 },
 "nbformat": 4,
 "nbformat_minor": 0
}
